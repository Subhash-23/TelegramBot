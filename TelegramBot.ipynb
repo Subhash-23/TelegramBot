{
  "cells": [
    {
      "cell_type": "code",
      "execution_count": 1,
      "metadata": {
        "colab": {
          "base_uri": "https://localhost:8080/",
          "height": 383
        },
        "id": "zSKi12IIPh2q",
        "outputId": "206d5cf1-cf7a-4be5-b307-0afca5a34d44"
      },
      "outputs": [
        {
          "ename": "ModuleNotFoundError",
          "evalue": "No module named 'openai'",
          "output_type": "error",
          "traceback": [
            "\u001b[0;31m---------------------------------------------------------------------------\u001b[0m",
            "\u001b[0;31mModuleNotFoundError\u001b[0m                       Traceback (most recent call last)",
            "\u001b[0;32m<ipython-input-1-50d0110733b2>\u001b[0m in \u001b[0;36m<cell line: 1>\u001b[0;34m()\u001b[0m\n\u001b[0;32m----> 1\u001b[0;31m \u001b[0;32mimport\u001b[0m \u001b[0mopenai\u001b[0m\u001b[0;34m\u001b[0m\u001b[0;34m\u001b[0m\u001b[0m\n\u001b[0m\u001b[1;32m      2\u001b[0m \u001b[0;32mimport\u001b[0m \u001b[0mrequests\u001b[0m\u001b[0;34m\u001b[0m\u001b[0;34m\u001b[0m\u001b[0m\n\u001b[1;32m      3\u001b[0m \u001b[0;32mimport\u001b[0m \u001b[0mpandas\u001b[0m \u001b[0;32mas\u001b[0m \u001b[0mpd\u001b[0m\u001b[0;34m\u001b[0m\u001b[0;34m\u001b[0m\u001b[0m\n\u001b[1;32m      4\u001b[0m \u001b[0;34m\u001b[0m\u001b[0m\n\u001b[1;32m      5\u001b[0m \u001b[0;31m# OPENAI API KEY\u001b[0m\u001b[0;34m\u001b[0m\u001b[0;34m\u001b[0m\u001b[0m\n",
            "\u001b[0;31mModuleNotFoundError\u001b[0m: No module named 'openai'",
            "",
            "\u001b[0;31m---------------------------------------------------------------------------\u001b[0;32m\nNOTE: If your import is failing due to a missing package, you can\nmanually install dependencies using either !pip or !apt.\n\nTo view examples of installing some common dependencies, click the\n\"Open Examples\" button below.\n\u001b[0;31m---------------------------------------------------------------------------\u001b[0m\n"
          ]
        }
      ],
      "source": [
        "import openai\n",
        "import requests\n",
        "import pandas as pd\n",
        "\n",
        "# OPENAI API KEY\n",
        "openai.api_key = 'YOUR-API-KEY'\n",
        "\n",
        "# TELEGRAM URL AND TELEGRAM CHAT ID\n",
        "telegram_api_token = 'YOUR-API-TOKEN'\n",
        "telegram_chat_id = 'YOUR-CHAT-ID'\n",
        "\n",
        "#READING USER INPUT FROM TELEGRAM AND PASSING IT TO SEND_MSG FUNCTION\n",
        "def read_msg(offset):\n",
        "    parameters = {\n",
        "        \"offset\": offset\n",
        "    }\n",
        "\n",
        "    resp = requests.get(f\"https://api.telegram.org/bot{telegram_api_token}/getUpdates\", params=parameters)\n",
        "    data = resp.json()\n",
        "\n",
        "    for result in data[\"result\"]:\n",
        "        if \"message\" in result and \"text\" in result[\"message\"]:\n",
        "            text = result[\"message\"][\"text\"]\n",
        "            print(f\"User Question: {text}\")\n",
        "\n",
        "            message_id = result[\"message\"][\"message_id\"]\n",
        "            send_msg(text, message_id)\n",
        "\n",
        "    if data[\"result\"]:\n",
        "        return data[\"result\"][-1][\"update_id\"] + 1\n",
        "\n",
        "#SENDING RESPONSE FROM CHATGPT TO THE TELEGRAM\n",
        "def send_msg(text, reply_to_message_id):\n",
        "    completion = openai.ChatCompletion.create(\n",
        "        model=\"gpt-3.5-turbo\",\n",
        "        messages=[{\"role\": \"user\", \"content\": text}]\n",
        "    )\n",
        "    bot_reply = completion.choices[0]['message']['content']\n",
        "\n",
        "    parameters = {\n",
        "        \"chat_id\": telegram_chat_id,\n",
        "        \"text\": bot_reply,\n",
        "        \"reply_to_message_id\": reply_to_message_id\n",
        "    }\n",
        "\n",
        "    resp = requests.get(f\"https://api.telegram.org/bot{telegram_api_token}/sendMessage\", params=parameters)\n",
        "    data = resp.json()\n",
        "\n",
        "    if \"result\" in data and \"text\" in data[\"result\"]:\n",
        "        message_text = data[\"result\"][\"text\"]\n",
        "        print(f\"Telegram Response: {message_text}\")\n",
        "\n",
        "offset = 0\n",
        "\n",
        "while True:\n",
        "    offset = read_msg(offset)\n"
      ]
    }
  ],
  "metadata": {
    "colab": {
      "provenance": []
    },
    "kernelspec": {
      "display_name": "Python 3",
      "name": "python3"
    },
    "language_info": {
      "name": "python"
    }
  },
  "nbformat": 4,
  "nbformat_minor": 0
}
